{
 "cells": [
  {
   "cell_type": "markdown",
   "metadata": {},
   "source": [
    "# Question 1\n",
    "In the videos, we saw the “diet problem”. (The diet problem is one of the first large-scale optimization problems to be studied in practice. Back in the 1930’s and 40’s, the Army wanted to meet the nutritional requirements of its soldiers while minimizing the cost.) In this homework you get to solve a diet problem with real data. The data is given in the file diet.xls.\n",
    "\n",
    "Formulate an optimization model (a linear program) to find the cheapest diet that satisfies the maximum and minimum daily nutrition constraints, and solve it using PuLP. Turn in your code and the solution. (The optimal solution should be a diet of air-popped popcorn, poached eggs, oranges, raw iceberg lettuce, raw celery, and frozen broccoli. UGH!)"
   ]
  },
  {
   "cell_type": "markdown",
   "metadata": {},
   "source": [
    "### Importing and formatting data\n",
    "To start off, we'll be using the pulp library along with the pandas library in this homework assignment.  Two primary arrays were created: constraints which contain the constraint criterias for the problem and data which contains the nutritional content of each food item.  "
   ]
  },
  {
   "cell_type": "code",
   "execution_count": 1,
   "metadata": {
    "collapsed": false
   },
   "outputs": [],
   "source": [
    "from pulp import *\n",
    "import pandas as pd\n",
    "\n",
    "raw = pd.read_excel('diet.xls')\n",
    "\n",
    "#pull constraint info out\n",
    "constraints=raw.iloc[65:67,2:raw.shape[1]] \n",
    "\n",
    "#remove serving size since it serves no purpose\n",
    "raw = raw.drop('Serving Size', 1) \n",
    "\n",
    "#convert to list for easier dictionary creation\n",
    "data=raw[0:64].values.tolist() "
   ]
  },
  {
   "cell_type": "markdown",
   "metadata": {},
   "source": [
    "### Create Nutrition Dictionary\n",
    "Next we can manually create a column for each nutritional value.  However, if this list gets extremely big, it would be a waste of time to manually generate this.  I created a for loop that loops through each of the individual nutrition column and generated a dictionary for each with respect to the food item that the nutrition is associated with.  All of this is stored in the attr variable."
   ]
  },
  {
   "cell_type": "code",
   "execution_count": 2,
   "metadata": {
    "collapsed": false
   },
   "outputs": [],
   "source": [
    "foods=[x[0] for x in data]\n",
    "attr=[]\n",
    "for i in range(len(data[1])-1):\n",
    "    if i==0:\n",
    "        attr.append([x[0] for x in data])\n",
    "    else:\n",
    "        attr.append(dict([(x[0],float(x[i])) for x in data]))"
   ]
  },
  {
   "cell_type": "markdown",
   "metadata": {},
   "source": [
    "### Variable\n",
    "Now we can establish the problem as a minimization function to minimize the costand to declare our variable foodVars."
   ]
  },
  {
   "cell_type": "code",
   "execution_count": 3,
   "metadata": {
    "collapsed": false
   },
   "outputs": [],
   "source": [
    "prob=LpProblem(\"Food optimization\", LpMinimize)\n",
    "foodVars=LpVariable.dicts(\"Foods\",attr[0],0)"
   ]
  },
  {
   "cell_type": "markdown",
   "metadata": {},
   "source": [
    "### Objective Function\n",
    "This is the fucntion that we are trying to solve for minimizing the total cost."
   ]
  },
  {
   "cell_type": "code",
   "execution_count": 4,
   "metadata": {
    "collapsed": false
   },
   "outputs": [],
   "source": [
    "prob += lpSum([attr[1][f] * foodVars[f] for f in attr[0]]), 'Total Cost'"
   ]
  },
  {
   "cell_type": "markdown",
   "metadata": {},
   "source": [
    "### Constraints\n",
    "Because we've stored both the nutritional content and the constraints in arrays, we can easily loop through them instead of manually writing them out.  We can also automatically name each of the constraints in the for loop"
   ]
  },
  {
   "cell_type": "code",
   "execution_count": 5,
   "metadata": {
    "collapsed": false
   },
   "outputs": [],
   "source": [
    "for j in range(2,12):\n",
    "    minstr=\"min \"+constraints.columns[j]\n",
    "    maxstr=\"max \"+constraints.columns[j]\n",
    "    prob += lpSum([attr[j][f] * foodVars[f] for f in attr[0]]) \\\n",
    "            >= constraints.iloc[0,j-1], minstr\n",
    "    prob += lpSum([attr[j][f] * foodVars[f] for f in attr[0]]) \\\n",
    "            <= constraints.iloc[1,j-1], maxstr"
   ]
  },
  {
   "cell_type": "markdown",
   "metadata": {},
   "source": [
    "### Solve \n",
    "Here the writeLP function can be used to copy all of our constraints into a .lp file in our python directory for us to view.  Once we've solved the optimization problem, we can see what it has chosen for us...wayyyy too much vegetables and not a single \"real\" meat dish...I'm disappointed"
   ]
  },
  {
   "cell_type": "code",
   "execution_count": 6,
   "metadata": {
    "collapsed": false
   },
   "outputs": [
    {
     "name": "stdout",
     "output_type": "stream",
     "text": [
      "52.64371 units of Foods_Celery,_Raw\n",
      "0.25960653 units of Foods_Frozen_Broccoli\n",
      "63.988506 units of Foods_Lettuce,Iceberg,Raw\n",
      "2.2929389 units of Foods_Oranges\n",
      "0.14184397 units of Foods_Poached_Eggs\n",
      "13.869322 units of Foods_Popcorn,Air_Popped\n",
      "Total Cost of ingredients =  4.337116797399999\n"
     ]
    }
   ],
   "source": [
    "prob.writeLP(\"xyz.lp\")\n",
    "prob.solve()\n",
    "for var in prob.variables():\n",
    "    if var.varValue >0:\n",
    "        print(str(var.varValue)+\" units of \"+var.name)\n",
    "\n",
    "print (\"Total Cost of ingredients = \", value(prob.objective))"
   ]
  },
  {
   "cell_type": "markdown",
   "metadata": {},
   "source": [
    "# Question 2\n",
    "Please add to your model the following constraints (which might require adding more variables) and solve the new model: \n",
    "\n",
    "* If a food is selected, then a minimum of 1/10 serving must be chosen. (Hint: now you will need two variables for each food i: whether it is chosen, and how much is part of the diet. You’ll also need to write a constraint to link them.)\n",
    "* Many people dislike celery and frozen broccoli. So at most one, but not both, can be selected. \n",
    "* To get day-to-day variety in protein, at least 3 kinds of meat/poultry/fish/eggs must be selected."
   ]
  },
  {
   "cell_type": "markdown",
   "metadata": {},
   "source": [
    "### Adding Constraints\n",
    "Question 2 asked us to add additional constraints to this problem.  Since we've already set the constraints from before, all we need to do is to just add to it.  But before we do that, we also need to add an additional variable of food_select to help us determine whether a food item has been chosen or not.  This can be a binary value.  Next we'll add all of our constraints."
   ]
  },
  {
   "cell_type": "code",
   "execution_count": 7,
   "metadata": {
    "collapsed": false
   },
   "outputs": [],
   "source": [
    "#Establish the food select variable to determine if the item was chosen or not\n",
    "food_select=LpVariable.dicts(\"food_select\",foods,0,1,LpBinary)\n",
    "\n",
    "#Atleast 1/10 of a server if the food is selected\n",
    "for food in foods:\n",
    "    prob += foodVars[food] >= 0.1*food_select[food]\n",
    "\n",
    "for food in foods:\n",
    "    prob += food_select[food] >= foodVars[food]*0.0000001\n",
    "\n",
    "#Either Celery or Broccoli\n",
    "prob += food_select['Frozen Broccoli'] + food_select['Celery, Raw'] <= 1\n",
    "\n",
    "#Atleast 3 different Meat, Poultry, Egg, or Fish\n",
    "prob += food_select['Roasted Chicken'] + \\\n",
    "food_select['Poached Eggs'] + \\\n",
    "food_select['Scrambled Eggs'] + \\\n",
    "food_select['Bologna,Turkey'] + \\\n",
    "food_select['Frankfurter, Beef'] + \\\n",
    "food_select['Ham,Sliced,Extralean'] + \\\n",
    "food_select['Hamburger W/Toppings'] + \\\n",
    "food_select['Hotdog, Plain'] + \\\n",
    "food_select['Pork'] + \\\n",
    "food_select['Sardines in Oil'] + \\\n",
    "food_select['White Tuna in Water'] + \\\n",
    "food_select['Chicknoodl Soup'] + \\\n",
    "food_select['Splt Pea&Hamsoup'] + \\\n",
    "food_select['Vegetbeef Soup'] + \\\n",
    "food_select['Neweng Clamchwd'] + \\\n",
    "food_select['New E Clamchwd,W/Mlk'] + \\\n",
    "food_select['Beanbacn Soup,W/Watr'] >=3"
   ]
  },
  {
   "cell_type": "markdown",
   "metadata": {},
   "source": [
    "### Solve\n",
    "After solving with these additional constraints, it's finally a relief to see that we have Turkey and two different types of eggs in our meal now!  Although, we did increase the amount of Iceberg lettuce.  I guess, Skyrim's got the right idea!"
   ]
  },
  {
   "cell_type": "code",
   "execution_count": 8,
   "metadata": {
    "collapsed": false
   },
   "outputs": [
    {
     "name": "stdout",
     "output_type": "stream",
     "text": [
      "0.1 units of Foods_Bologna,Turkey\n",
      "42.423026 units of Foods_Celery,_Raw\n",
      "82.673927 units of Foods_Lettuce,Iceberg,Raw\n",
      "3.0856009 units of Foods_Oranges\n",
      "1.9590978 units of Foods_Peanut_Butter\n",
      "0.1 units of Foods_Poached_Eggs\n",
      "13.214473 units of Foods_Popcorn,Air_Popped\n",
      "0.1 units of Foods_Scrambled_Eggs\n",
      "Total Cost of ingredients =  4.5129554810000005\n"
     ]
    }
   ],
   "source": [
    "prob.solve()\n",
    "for var in prob.variables():\n",
    "    if var.varValue >0 and \"food_select\" not in var.name:\n",
    "        print(str(var.varValue)+\" units of \"+var.name)\n",
    "\n",
    "print (\"Total Cost of ingredients = \", value(prob.objective))"
   ]
  },
  {
   "cell_type": "markdown",
   "metadata": {},
   "source": [
    "# Homework Extras\n",
    "If you want to see what a more full-sized problem would look like, try solving the model of Question 1 for the file diet_large.xls, which is a low-cholesterol diet model (rather than minimizing cost, the goal is to minimize cholesterol intake). I don’t know anyone who’d want to eat this diet – the optimal solution includes dried chrysanthemum garland, raw beluga whale flipper, freeze-dried parsley, etc. – which shows why it’s necessary to add additional constraints beyond the basic ones we saw in the video!"
   ]
  },
  {
   "cell_type": "markdown",
   "metadata": {},
   "source": [
    "### Response\n",
    "Since I generalized my code previously, I was also able to apply that to this problem, making it simpler to work with.  I had to make a few tweaks to variable indicies but overall it's replicating what I've done above."
   ]
  },
  {
   "cell_type": "code",
   "execution_count": 9,
   "metadata": {
    "collapsed": false
   },
   "outputs": [],
   "source": [
    "%reset -f\n",
    "from pulp import *\n",
    "import pandas as pd\n",
    "rawlarge = pd.read_excel('diet_large.xls',header=1)\n",
    "rawlarge = rawlarge.fillna(0)\n",
    "\n",
    "#pull constraint info out\n",
    "constraints=rawlarge.iloc[[7147,7149],1:28]\n",
    "\n",
    "#convert to list for easier dictionary creation\n",
    "datadf=rawlarge.iloc[0:7146,0:29]\n",
    "data=rawlarge.iloc[0:7146,0:29].values.tolist() "
   ]
  },
  {
   "cell_type": "code",
   "execution_count": 10,
   "metadata": {
    "collapsed": false
   },
   "outputs": [],
   "source": [
    "# Create Nutrition Dictionary\n",
    "foods=[x[0] for x in data]\n",
    "attr=[]\n",
    "for i in range(len(data[1])):\n",
    "    if i==0:\n",
    "        attr.append([x[0] for x in data])\n",
    "    else:\n",
    "        attr.append(dict([(x[0],float(x[i])) for x in data]))\n",
    "\n",
    "# Variables\n",
    "prob=LpProblem(\"Food optimization\", LpMinimize)\n",
    "foodVars=LpVariable.dicts(\"Foods\",attr[0],0)\n",
    "\n",
    "# Objective Function\n",
    "prob += lpSum([attr[28][f] * foodVars[f] for f in attr[0]]), 'Total Cholesterol'\n",
    "\n",
    "# Constraints\n",
    "for j in range(1,28):\n",
    "    minstr=\"min \"+constraints.columns[j-1]\n",
    "    maxstr=\"max \"+constraints.columns[j-1]\n",
    "    prob += lpSum([attr[j][f] * foodVars[f] for f in attr[0]]) \\\n",
    "            >= constraints.iloc[0,j-1], minstr\n",
    "    prob += lpSum([attr[j][f] * foodVars[f] for f in attr[0]]) \\\n",
    "            <= constraints.iloc[1,j-1], maxstr"
   ]
  },
  {
   "cell_type": "code",
   "execution_count": 11,
   "metadata": {
    "collapsed": false
   },
   "outputs": [
    {
     "name": "stdout",
     "output_type": "stream",
     "text": [
      "0.059863415 units of Foods_Beans,_adzuki,_mature_seeds,_raw\n",
      "0.069514608 units of Foods_Broccoli_raab,_raw\n",
      "0.42866218 units of Foods_Cocoa_mix,_no_sugar_added,_powder\n",
      "0.14694398 units of Foods_Egg,_white,_dried,_flakes,_glucose_reduced\n",
      "0.73805891 units of Foods_Infant_formula,_MEAD_JOHNSON,_ENFAMIL,_NUTRAMIGEN,_with_iron,_p\n",
      "0.4258564 units of Foods_Infant_formula,_NESTLE,_GOOD_START_ESSENTIALS__SOY,__with_iron,\n",
      "0.050114149 units of Foods_Infant_formula,_ROSS,_ISOMIL,_with_iron,_powder,_not_reconstitu\n",
      "0.15033656 units of Foods_Margarine_like_spread,_approximately_60%_fat,_tub,_soybean_(hyd\n",
      "0.25918767 units of Foods_Mung_beans,_mature_seeds,_raw\n",
      "0.18052856 units of Foods_Nuts,_mixed_nuts,_dry_roasted,_with_peanuts,_with_salt_added\n",
      "1.184482 units of Foods_Oil,_vegetable,_sunflower,_linoleic,_(hydrogenated)\n",
      "0.10375187 units of Foods_Seeds,_sunflower_seed_kernels,_dry_roasted,_with_salt_added\n",
      "0.031866196 units of Foods_Snacks,_potato_chips,_fat_free,_made_with_olestra\n",
      "0.070710308 units of Foods_Spices,_paprika\n",
      "0.55106575 units of Foods_Tomatoes,_sun_dried\n",
      "9999.6864 units of Foods_Water,_bottled,_non_carbonated,_CALISTOGA\n",
      "Total cholesterol of ingredients =  0.0\n"
     ]
    }
   ],
   "source": [
    "# Solve\n",
    "prob.writeLP(\"abc.lp\")\n",
    "prob.solve()\n",
    "for var in prob.variables():\n",
    "    if var.varValue >0:\n",
    "        print(str(var.varValue)+\" units of \"+var.name)\n",
    "\n",
    "print (\"Total cholesterol of ingredients = \", value(prob.objective))"
   ]
  },
  {
   "cell_type": "markdown",
   "metadata": {},
   "source": [
    "On thing I noticed is that this isn't the same as what was provided in the answers.  However, I did also achieve a cholesterol level of 0.0.  It may be possible that the solver may be different than the one that Professor Sokol used  but still found this as an optimal solution.  "
   ]
  }
 ],
 "metadata": {
  "kernelspec": {
   "display_name": "Python [conda root]",
   "language": "python",
   "name": "conda-root-py"
  },
  "language_info": {
   "codemirror_mode": {
    "name": "ipython",
    "version": 3
   },
   "file_extension": ".py",
   "mimetype": "text/x-python",
   "name": "python",
   "nbconvert_exporter": "python",
   "pygments_lexer": "ipython3",
   "version": "3.5.2"
  }
 },
 "nbformat": 4,
 "nbformat_minor": 1
}
